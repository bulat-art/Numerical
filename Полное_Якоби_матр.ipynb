{
 "cells": [
  {
   "cell_type": "code",
   "execution_count": 16,
   "metadata": {},
   "outputs": [],
   "source": [
    "import numpy as np\n",
    "import numpy.linalg as lin\n",
    "import time\n",
    "A=np.loadtxt(\"in.txt\",delimiter=\" \")\n",
    "n=A.shape[1]\n",
    "M=np.loadtxt(\"in.txt\",delimiter=\" \")\n",
    "y_0=np.random.rand(3)# первое приближение(случайный вектор)\n",
    "y_0=y_0/lin.norm(y_0)\n",
    "eps=1e-9\n",
    "k=0"
   ]
  },
  {
   "cell_type": "markdown",
   "metadata": {},
   "source": [
    "### Исходная матрица"
   ]
  },
  {
   "cell_type": "code",
   "execution_count": 17,
   "metadata": {},
   "outputs": [
    {
     "data": {
      "text/plain": [
       "array([[-0.820053, -0.135416,  0.269479],\n",
       "       [-0.135416,  0.514864,  0.027061],\n",
       "       [ 0.269479,  0.027061, -0.833651]])"
      ]
     },
     "execution_count": 17,
     "metadata": {},
     "output_type": "execute_result"
    }
   ],
   "source": [
    "M"
   ]
  },
  {
   "cell_type": "code",
   "execution_count": 8,
   "metadata": {},
   "outputs": [
    {
     "data": {
      "text/plain": [
       "array([[0.      , 0.135416, 0.269479],\n",
       "       [0.      , 0.      , 0.027061],\n",
       "       [0.      , 0.      , 0.      ]])"
      ]
     },
     "execution_count": 8,
     "metadata": {},
     "output_type": "execute_result"
    }
   ],
   "source": [
    "np.triu(abs(M),k=1)"
   ]
  },
 
  {
   "cell_type": "markdown",
   "metadata": {},
   "source": [
    "### Поиск макс. эл."
   ]
  },
  {
   "cell_type": "code",
   "execution_count": 18,
   "metadata": {},
   "outputs": [],
   "source": [
    "def maxind(A):\n",
    "    Diag=np.triu(abs(A),k=1)# обнуление нижних компонент\n",
    "    ind = np.unravel_index(np.argmax(Diag, axis=None), Diag.shape)# индекс максмимального элемента\n",
    "    return ind"
   ]
  },
  {
   "cell_type": "code",
   "execution_count": 19,
   "metadata": {},
   "outputs": [],
   "source": [
    "X=np.identity(n)# единичная матрица"
   ]
  },
  {
   "cell_type": "markdown",
   "metadata": {},
   "source": [
    "## Метод Якоби"
   ]
  },
  {
   "cell_type": "code",
   "execution_count": 20,
   "metadata": {},
   "outputs": [
    {
     "data": {
      "text/plain": [
       "0.004997968673706055"
      ]
     },
     "execution_count": 20,
     "metadata": {},
     "output_type": "execute_result"
    }
   ],
   "source": [
    "start=time.time()\n",
    "while abs(A[maxind(A)])>eps:\n",
    "    V=np.identity(n)# будущая матрица поворта\n",
    "    i=maxind(A)[0]# строка где находится макимальный элемент\n",
    "    j=maxind(A)[1]# столбец где находится макс элемент\n",
    "    d=np.sqrt((A[i,i]-A[j,j])**2+4*A[i,j]**2)# формлы для матрицы V()\n",
    "    c=np.sqrt((1+abs(A[i,i]-A[j,j])/d)/2)\n",
    "    s=np.sign(A[i,j]*(A[i,i]-A[j,j]))*np.sqrt((1-abs(A[i,i]-A[j,j])/d)/2)\n",
    "    k+=1\n",
    "    #lamd=A[i,i]\n",
    "    V[i,i]=c\n",
    "    V[j,j]=c\n",
    "    V[i,j]=-s\n",
    "    V[j,i]=s\n",
    "    #X=X@V# для нахождения собственных векторов\n",
    "    A=np.transpose(V)@A@V\n",
    "end=time.time()\n",
    "end-start    \n",
    "    "
   ]
  },
  {
   "cell_type": "code",
   "execution_count": 21,
   "metadata": {},
   "outputs": [],
   "source": [
    "lamds=[A[i,i] for i in range(3)]\n",
    "#S_Vect=[X[:,i] for i in range(3)]\n",
    "#Norm_Vect_nev=[np.max(M@S_Vect[i]-lamds[i]*S_Vect[i]) for i in range(3)]"
   ]
  },
  {
   "cell_type": "markdown",
   "metadata": {},
   "source": [
    "Количество итераций"
   ]
  },
  {
   "cell_type": "code",
   "execution_count": 22,
   "metadata": {},
   "outputs": [
    {
     "data": {
      "text/plain": [
       "6"
      ]
     },
     "execution_count": 22,
     "metadata": {},
     "output_type": "execute_result"
    }
   ],
   "source": [
    "k"
   ]
  },
  {
   "cell_type": "markdown",
   "metadata": {},
   "source": [
    "### С.ч."
   ]
  },
  {
   "cell_type": "code",
   "execution_count": 23,
   "metadata": {},
   "outputs": [
    {
     "data": {
      "text/plain": [
       "[-0.5628168212209222, 0.5284622834463897, -1.1044854622254672]"
      ]
     },
     "execution_count": 23,
     "metadata": {},
     "output_type": "execute_result"
    }
   ],
   "source": [
    "lamds"
   ]
  },
  {
   "cell_type": "markdown",
   "metadata": {},
   "source": [
    "### С.в."
   ]
  },
  {
   "cell_type": "code",
   "execution_count": 24,
   "metadata": {},
   "outputs": [
    {
     "ename": "NameError",
     "evalue": "name 'S_Vect' is not defined",
     "output_type": "error",
     "traceback": [
      "\u001b[1;31m---------------------------------------------------------------------------\u001b[0m",
      "\u001b[1;31mNameError\u001b[0m                                 Traceback (most recent call last)",
      "\u001b[1;32m<ipython-input-24-85d9e1381922>\u001b[0m in \u001b[0;36m<module>\u001b[1;34m\u001b[0m\n\u001b[1;32m----> 1\u001b[1;33m \u001b[0mS_Vect\u001b[0m\u001b[1;33m\u001b[0m\u001b[1;33m\u001b[0m\u001b[0m\n\u001b[0m",
      "\u001b[1;31mNameError\u001b[0m: name 'S_Vect' is not defined"
     ]
    }
   ],
   "source": [
    "S_Vect"
   ]
  },
  {
   "cell_type": "markdown",
   "metadata": {},
   "source": [
    "### Невязка"
   ]
  },
  {
   "cell_type": "code",
   "execution_count": 25,
   "metadata": {},
   "outputs": [
    {
     "ename": "NameError",
     "evalue": "name 'Norm_Vect_nev' is not defined",
     "output_type": "error",
     "traceback": [
      "\u001b[1;31m---------------------------------------------------------------------------\u001b[0m",
      "\u001b[1;31mNameError\u001b[0m                                 Traceback (most recent call last)",
      "\u001b[1;32m<ipython-input-25-90595773ea5b>\u001b[0m in \u001b[0;36m<module>\u001b[1;34m\u001b[0m\n\u001b[1;32m----> 1\u001b[1;33m \u001b[0mNorm_Vect_nev\u001b[0m\u001b[1;33m\u001b[0m\u001b[1;33m\u001b[0m\u001b[0m\n\u001b[0m",
      "\u001b[1;31mNameError\u001b[0m: name 'Norm_Vect_nev' is not defined"
     ]
    }
   ],
   "source": [
    "Norm_Vect_nev"
   ]
  }
 ],
 "metadata": {
  "kernelspec": {
   "display_name": "Python 3",
   "language": "python",
   "name": "python3"
  },
  "language_info": {
   "codemirror_mode": {
    "name": "ipython",
    "version": 3
   },
   "file_extension": ".py",
   "mimetype": "text/x-python",
   "name": "python",
   "nbconvert_exporter": "python",
   "pygments_lexer": "ipython3",
   "version": "3.7.6"
  }
 },
 "nbformat": 4,
 "nbformat_minor": 4
}
